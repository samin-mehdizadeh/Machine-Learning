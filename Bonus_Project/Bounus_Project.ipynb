{
  "nbformat": 4,
  "nbformat_minor": 0,
  "metadata": {
    "colab": {
      "name": "Bounus_Project.ipynb",
      "provenance": [],
      "collapsed_sections": []
    },
    "kernelspec": {
      "name": "python3",
      "display_name": "Python 3"
    },
    "language_info": {
      "name": "python"
    },
    "widgets": {
      "application/vnd.jupyter.widget-state+json": {
        "9ac57e72e91b4e55a5f689666123905a": {
          "model_module": "@jupyter-widgets/controls",
          "model_name": "HBoxModel",
          "model_module_version": "1.5.0",
          "state": {
            "_view_name": "HBoxView",
            "_dom_classes": [],
            "_model_name": "HBoxModel",
            "_view_module": "@jupyter-widgets/controls",
            "_model_module_version": "1.5.0",
            "_view_count": null,
            "_view_module_version": "1.5.0",
            "box_style": "",
            "layout": "IPY_MODEL_861fe3ee4bf74d16a76e693edaadc9ac",
            "_model_module": "@jupyter-widgets/controls",
            "children": [
              "IPY_MODEL_f13847f0be79482a930d19ab96ee1e87",
              "IPY_MODEL_e5dba12fdc2e4ab6a6f7d87138d4edc6",
              "IPY_MODEL_4ada1fc2917749f9a22970882fbf3b9d"
            ]
          }
        },
        "861fe3ee4bf74d16a76e693edaadc9ac": {
          "model_module": "@jupyter-widgets/base",
          "model_name": "LayoutModel",
          "model_module_version": "1.2.0",
          "state": {
            "_view_name": "LayoutView",
            "grid_template_rows": null,
            "right": null,
            "justify_content": null,
            "_view_module": "@jupyter-widgets/base",
            "overflow": null,
            "_model_module_version": "1.2.0",
            "_view_count": null,
            "flex_flow": null,
            "width": null,
            "min_width": null,
            "border": null,
            "align_items": null,
            "bottom": null,
            "_model_module": "@jupyter-widgets/base",
            "top": null,
            "grid_column": null,
            "overflow_y": null,
            "overflow_x": null,
            "grid_auto_flow": null,
            "grid_area": null,
            "grid_template_columns": null,
            "flex": null,
            "_model_name": "LayoutModel",
            "justify_items": null,
            "grid_row": null,
            "max_height": null,
            "align_content": null,
            "visibility": null,
            "align_self": null,
            "height": null,
            "min_height": null,
            "padding": null,
            "grid_auto_rows": null,
            "grid_gap": null,
            "max_width": null,
            "order": null,
            "_view_module_version": "1.2.0",
            "grid_template_areas": null,
            "object_position": null,
            "object_fit": null,
            "grid_auto_columns": null,
            "margin": null,
            "display": null,
            "left": null
          }
        },
        "f13847f0be79482a930d19ab96ee1e87": {
          "model_module": "@jupyter-widgets/controls",
          "model_name": "HTMLModel",
          "model_module_version": "1.5.0",
          "state": {
            "_view_name": "HTMLView",
            "style": "IPY_MODEL_d400a597f8884a33bd91ca8b819e60d8",
            "_dom_classes": [],
            "description": "",
            "_model_name": "HTMLModel",
            "placeholder": "​",
            "_view_module": "@jupyter-widgets/controls",
            "_model_module_version": "1.5.0",
            "value": "100%",
            "_view_count": null,
            "_view_module_version": "1.5.0",
            "description_tooltip": null,
            "_model_module": "@jupyter-widgets/controls",
            "layout": "IPY_MODEL_99138073b9fa4caa8892586191a06199"
          }
        },
        "e5dba12fdc2e4ab6a6f7d87138d4edc6": {
          "model_module": "@jupyter-widgets/controls",
          "model_name": "FloatProgressModel",
          "model_module_version": "1.5.0",
          "state": {
            "_view_name": "ProgressView",
            "style": "IPY_MODEL_0e634115411d4787bc91aa01a3f076f9",
            "_dom_classes": [],
            "description": "",
            "_model_name": "FloatProgressModel",
            "bar_style": "success",
            "max": 110,
            "_view_module": "@jupyter-widgets/controls",
            "_model_module_version": "1.5.0",
            "value": 110,
            "_view_count": null,
            "_view_module_version": "1.5.0",
            "orientation": "horizontal",
            "min": 0,
            "description_tooltip": null,
            "_model_module": "@jupyter-widgets/controls",
            "layout": "IPY_MODEL_ac82c7a9f00945ba8608afc646990789"
          }
        },
        "4ada1fc2917749f9a22970882fbf3b9d": {
          "model_module": "@jupyter-widgets/controls",
          "model_name": "HTMLModel",
          "model_module_version": "1.5.0",
          "state": {
            "_view_name": "HTMLView",
            "style": "IPY_MODEL_48d7eb708d1e408a907006efdf07b68f",
            "_dom_classes": [],
            "description": "",
            "_model_name": "HTMLModel",
            "placeholder": "​",
            "_view_module": "@jupyter-widgets/controls",
            "_model_module_version": "1.5.0",
            "value": " 110/110 [01:45&lt;00:00,  1.05s/it]",
            "_view_count": null,
            "_view_module_version": "1.5.0",
            "description_tooltip": null,
            "_model_module": "@jupyter-widgets/controls",
            "layout": "IPY_MODEL_90ff28661d424ff0a916059b4b2728cc"
          }
        },
        "d400a597f8884a33bd91ca8b819e60d8": {
          "model_module": "@jupyter-widgets/controls",
          "model_name": "DescriptionStyleModel",
          "model_module_version": "1.5.0",
          "state": {
            "_view_name": "StyleView",
            "_model_name": "DescriptionStyleModel",
            "description_width": "",
            "_view_module": "@jupyter-widgets/base",
            "_model_module_version": "1.5.0",
            "_view_count": null,
            "_view_module_version": "1.2.0",
            "_model_module": "@jupyter-widgets/controls"
          }
        },
        "99138073b9fa4caa8892586191a06199": {
          "model_module": "@jupyter-widgets/base",
          "model_name": "LayoutModel",
          "model_module_version": "1.2.0",
          "state": {
            "_view_name": "LayoutView",
            "grid_template_rows": null,
            "right": null,
            "justify_content": null,
            "_view_module": "@jupyter-widgets/base",
            "overflow": null,
            "_model_module_version": "1.2.0",
            "_view_count": null,
            "flex_flow": null,
            "width": null,
            "min_width": null,
            "border": null,
            "align_items": null,
            "bottom": null,
            "_model_module": "@jupyter-widgets/base",
            "top": null,
            "grid_column": null,
            "overflow_y": null,
            "overflow_x": null,
            "grid_auto_flow": null,
            "grid_area": null,
            "grid_template_columns": null,
            "flex": null,
            "_model_name": "LayoutModel",
            "justify_items": null,
            "grid_row": null,
            "max_height": null,
            "align_content": null,
            "visibility": null,
            "align_self": null,
            "height": null,
            "min_height": null,
            "padding": null,
            "grid_auto_rows": null,
            "grid_gap": null,
            "max_width": null,
            "order": null,
            "_view_module_version": "1.2.0",
            "grid_template_areas": null,
            "object_position": null,
            "object_fit": null,
            "grid_auto_columns": null,
            "margin": null,
            "display": null,
            "left": null
          }
        },
        "0e634115411d4787bc91aa01a3f076f9": {
          "model_module": "@jupyter-widgets/controls",
          "model_name": "ProgressStyleModel",
          "model_module_version": "1.5.0",
          "state": {
            "_view_name": "StyleView",
            "_model_name": "ProgressStyleModel",
            "description_width": "",
            "_view_module": "@jupyter-widgets/base",
            "_model_module_version": "1.5.0",
            "_view_count": null,
            "_view_module_version": "1.2.0",
            "bar_color": null,
            "_model_module": "@jupyter-widgets/controls"
          }
        },
        "ac82c7a9f00945ba8608afc646990789": {
          "model_module": "@jupyter-widgets/base",
          "model_name": "LayoutModel",
          "model_module_version": "1.2.0",
          "state": {
            "_view_name": "LayoutView",
            "grid_template_rows": null,
            "right": null,
            "justify_content": null,
            "_view_module": "@jupyter-widgets/base",
            "overflow": null,
            "_model_module_version": "1.2.0",
            "_view_count": null,
            "flex_flow": null,
            "width": null,
            "min_width": null,
            "border": null,
            "align_items": null,
            "bottom": null,
            "_model_module": "@jupyter-widgets/base",
            "top": null,
            "grid_column": null,
            "overflow_y": null,
            "overflow_x": null,
            "grid_auto_flow": null,
            "grid_area": null,
            "grid_template_columns": null,
            "flex": null,
            "_model_name": "LayoutModel",
            "justify_items": null,
            "grid_row": null,
            "max_height": null,
            "align_content": null,
            "visibility": null,
            "align_self": null,
            "height": null,
            "min_height": null,
            "padding": null,
            "grid_auto_rows": null,
            "grid_gap": null,
            "max_width": null,
            "order": null,
            "_view_module_version": "1.2.0",
            "grid_template_areas": null,
            "object_position": null,
            "object_fit": null,
            "grid_auto_columns": null,
            "margin": null,
            "display": null,
            "left": null
          }
        },
        "48d7eb708d1e408a907006efdf07b68f": {
          "model_module": "@jupyter-widgets/controls",
          "model_name": "DescriptionStyleModel",
          "model_module_version": "1.5.0",
          "state": {
            "_view_name": "StyleView",
            "_model_name": "DescriptionStyleModel",
            "description_width": "",
            "_view_module": "@jupyter-widgets/base",
            "_model_module_version": "1.5.0",
            "_view_count": null,
            "_view_module_version": "1.2.0",
            "_model_module": "@jupyter-widgets/controls"
          }
        },
        "90ff28661d424ff0a916059b4b2728cc": {
          "model_module": "@jupyter-widgets/base",
          "model_name": "LayoutModel",
          "model_module_version": "1.2.0",
          "state": {
            "_view_name": "LayoutView",
            "grid_template_rows": null,
            "right": null,
            "justify_content": null,
            "_view_module": "@jupyter-widgets/base",
            "overflow": null,
            "_model_module_version": "1.2.0",
            "_view_count": null,
            "flex_flow": null,
            "width": null,
            "min_width": null,
            "border": null,
            "align_items": null,
            "bottom": null,
            "_model_module": "@jupyter-widgets/base",
            "top": null,
            "grid_column": null,
            "overflow_y": null,
            "overflow_x": null,
            "grid_auto_flow": null,
            "grid_area": null,
            "grid_template_columns": null,
            "flex": null,
            "_model_name": "LayoutModel",
            "justify_items": null,
            "grid_row": null,
            "max_height": null,
            "align_content": null,
            "visibility": null,
            "align_self": null,
            "height": null,
            "min_height": null,
            "padding": null,
            "grid_auto_rows": null,
            "grid_gap": null,
            "max_width": null,
            "order": null,
            "_view_module_version": "1.2.0",
            "grid_template_areas": null,
            "object_position": null,
            "object_fit": null,
            "grid_auto_columns": null,
            "margin": null,
            "display": null,
            "left": null
          }
        },
        "2a0b62394d734e85a210daceae28bdab": {
          "model_module": "@jupyter-widgets/controls",
          "model_name": "HBoxModel",
          "model_module_version": "1.5.0",
          "state": {
            "_view_name": "HBoxView",
            "_dom_classes": [],
            "_model_name": "HBoxModel",
            "_view_module": "@jupyter-widgets/controls",
            "_model_module_version": "1.5.0",
            "_view_count": null,
            "_view_module_version": "1.5.0",
            "box_style": "",
            "layout": "IPY_MODEL_1e2d4cc6e15946ae8b1e157e578530ab",
            "_model_module": "@jupyter-widgets/controls",
            "children": [
              "IPY_MODEL_8f87fa53ffcb4bdea3ac4ad8f44c2afa",
              "IPY_MODEL_8e7d594ee5654755981f18b76efd85bb",
              "IPY_MODEL_20ffd0205c974bab87d52c55fac2bcb5"
            ]
          }
        },
        "1e2d4cc6e15946ae8b1e157e578530ab": {
          "model_module": "@jupyter-widgets/base",
          "model_name": "LayoutModel",
          "model_module_version": "1.2.0",
          "state": {
            "_view_name": "LayoutView",
            "grid_template_rows": null,
            "right": null,
            "justify_content": null,
            "_view_module": "@jupyter-widgets/base",
            "overflow": null,
            "_model_module_version": "1.2.0",
            "_view_count": null,
            "flex_flow": null,
            "width": null,
            "min_width": null,
            "border": null,
            "align_items": null,
            "bottom": null,
            "_model_module": "@jupyter-widgets/base",
            "top": null,
            "grid_column": null,
            "overflow_y": null,
            "overflow_x": null,
            "grid_auto_flow": null,
            "grid_area": null,
            "grid_template_columns": null,
            "flex": null,
            "_model_name": "LayoutModel",
            "justify_items": null,
            "grid_row": null,
            "max_height": null,
            "align_content": null,
            "visibility": null,
            "align_self": null,
            "height": null,
            "min_height": null,
            "padding": null,
            "grid_auto_rows": null,
            "grid_gap": null,
            "max_width": null,
            "order": null,
            "_view_module_version": "1.2.0",
            "grid_template_areas": null,
            "object_position": null,
            "object_fit": null,
            "grid_auto_columns": null,
            "margin": null,
            "display": null,
            "left": null
          }
        },
        "8f87fa53ffcb4bdea3ac4ad8f44c2afa": {
          "model_module": "@jupyter-widgets/controls",
          "model_name": "HTMLModel",
          "model_module_version": "1.5.0",
          "state": {
            "_view_name": "HTMLView",
            "style": "IPY_MODEL_4e804eaaae1c4ee8b6dbf2897569a2ec",
            "_dom_classes": [],
            "description": "",
            "_model_name": "HTMLModel",
            "placeholder": "​",
            "_view_module": "@jupyter-widgets/controls",
            "_model_module_version": "1.5.0",
            "value": "100%",
            "_view_count": null,
            "_view_module_version": "1.5.0",
            "description_tooltip": null,
            "_model_module": "@jupyter-widgets/controls",
            "layout": "IPY_MODEL_9243abc86c644a48a003ce497952d701"
          }
        },
        "8e7d594ee5654755981f18b76efd85bb": {
          "model_module": "@jupyter-widgets/controls",
          "model_name": "FloatProgressModel",
          "model_module_version": "1.5.0",
          "state": {
            "_view_name": "ProgressView",
            "style": "IPY_MODEL_e0405ecc4372429da54dc27bfd87bedf",
            "_dom_classes": [],
            "description": "",
            "_model_name": "FloatProgressModel",
            "bar_style": "success",
            "max": 15,
            "_view_module": "@jupyter-widgets/controls",
            "_model_module_version": "1.5.0",
            "value": 15,
            "_view_count": null,
            "_view_module_version": "1.5.0",
            "orientation": "horizontal",
            "min": 0,
            "description_tooltip": null,
            "_model_module": "@jupyter-widgets/controls",
            "layout": "IPY_MODEL_bc71a898c9e5407ba76f570b6aed8f2e"
          }
        },
        "20ffd0205c974bab87d52c55fac2bcb5": {
          "model_module": "@jupyter-widgets/controls",
          "model_name": "HTMLModel",
          "model_module_version": "1.5.0",
          "state": {
            "_view_name": "HTMLView",
            "style": "IPY_MODEL_c5079d1503f1449faabc2a385dfa272f",
            "_dom_classes": [],
            "description": "",
            "_model_name": "HTMLModel",
            "placeholder": "​",
            "_view_module": "@jupyter-widgets/controls",
            "_model_module_version": "1.5.0",
            "value": " 15/15 [01:14&lt;00:00,  4.89s/it]",
            "_view_count": null,
            "_view_module_version": "1.5.0",
            "description_tooltip": null,
            "_model_module": "@jupyter-widgets/controls",
            "layout": "IPY_MODEL_29d89139db9845d3943f0bd23293b424"
          }
        },
        "4e804eaaae1c4ee8b6dbf2897569a2ec": {
          "model_module": "@jupyter-widgets/controls",
          "model_name": "DescriptionStyleModel",
          "model_module_version": "1.5.0",
          "state": {
            "_view_name": "StyleView",
            "_model_name": "DescriptionStyleModel",
            "description_width": "",
            "_view_module": "@jupyter-widgets/base",
            "_model_module_version": "1.5.0",
            "_view_count": null,
            "_view_module_version": "1.2.0",
            "_model_module": "@jupyter-widgets/controls"
          }
        },
        "9243abc86c644a48a003ce497952d701": {
          "model_module": "@jupyter-widgets/base",
          "model_name": "LayoutModel",
          "model_module_version": "1.2.0",
          "state": {
            "_view_name": "LayoutView",
            "grid_template_rows": null,
            "right": null,
            "justify_content": null,
            "_view_module": "@jupyter-widgets/base",
            "overflow": null,
            "_model_module_version": "1.2.0",
            "_view_count": null,
            "flex_flow": null,
            "width": null,
            "min_width": null,
            "border": null,
            "align_items": null,
            "bottom": null,
            "_model_module": "@jupyter-widgets/base",
            "top": null,
            "grid_column": null,
            "overflow_y": null,
            "overflow_x": null,
            "grid_auto_flow": null,
            "grid_area": null,
            "grid_template_columns": null,
            "flex": null,
            "_model_name": "LayoutModel",
            "justify_items": null,
            "grid_row": null,
            "max_height": null,
            "align_content": null,
            "visibility": null,
            "align_self": null,
            "height": null,
            "min_height": null,
            "padding": null,
            "grid_auto_rows": null,
            "grid_gap": null,
            "max_width": null,
            "order": null,
            "_view_module_version": "1.2.0",
            "grid_template_areas": null,
            "object_position": null,
            "object_fit": null,
            "grid_auto_columns": null,
            "margin": null,
            "display": null,
            "left": null
          }
        },
        "e0405ecc4372429da54dc27bfd87bedf": {
          "model_module": "@jupyter-widgets/controls",
          "model_name": "ProgressStyleModel",
          "model_module_version": "1.5.0",
          "state": {
            "_view_name": "StyleView",
            "_model_name": "ProgressStyleModel",
            "description_width": "",
            "_view_module": "@jupyter-widgets/base",
            "_model_module_version": "1.5.0",
            "_view_count": null,
            "_view_module_version": "1.2.0",
            "bar_color": null,
            "_model_module": "@jupyter-widgets/controls"
          }
        },
        "bc71a898c9e5407ba76f570b6aed8f2e": {
          "model_module": "@jupyter-widgets/base",
          "model_name": "LayoutModel",
          "model_module_version": "1.2.0",
          "state": {
            "_view_name": "LayoutView",
            "grid_template_rows": null,
            "right": null,
            "justify_content": null,
            "_view_module": "@jupyter-widgets/base",
            "overflow": null,
            "_model_module_version": "1.2.0",
            "_view_count": null,
            "flex_flow": null,
            "width": null,
            "min_width": null,
            "border": null,
            "align_items": null,
            "bottom": null,
            "_model_module": "@jupyter-widgets/base",
            "top": null,
            "grid_column": null,
            "overflow_y": null,
            "overflow_x": null,
            "grid_auto_flow": null,
            "grid_area": null,
            "grid_template_columns": null,
            "flex": null,
            "_model_name": "LayoutModel",
            "justify_items": null,
            "grid_row": null,
            "max_height": null,
            "align_content": null,
            "visibility": null,
            "align_self": null,
            "height": null,
            "min_height": null,
            "padding": null,
            "grid_auto_rows": null,
            "grid_gap": null,
            "max_width": null,
            "order": null,
            "_view_module_version": "1.2.0",
            "grid_template_areas": null,
            "object_position": null,
            "object_fit": null,
            "grid_auto_columns": null,
            "margin": null,
            "display": null,
            "left": null
          }
        },
        "c5079d1503f1449faabc2a385dfa272f": {
          "model_module": "@jupyter-widgets/controls",
          "model_name": "DescriptionStyleModel",
          "model_module_version": "1.5.0",
          "state": {
            "_view_name": "StyleView",
            "_model_name": "DescriptionStyleModel",
            "description_width": "",
            "_view_module": "@jupyter-widgets/base",
            "_model_module_version": "1.5.0",
            "_view_count": null,
            "_view_module_version": "1.2.0",
            "_model_module": "@jupyter-widgets/controls"
          }
        },
        "29d89139db9845d3943f0bd23293b424": {
          "model_module": "@jupyter-widgets/base",
          "model_name": "LayoutModel",
          "model_module_version": "1.2.0",
          "state": {
            "_view_name": "LayoutView",
            "grid_template_rows": null,
            "right": null,
            "justify_content": null,
            "_view_module": "@jupyter-widgets/base",
            "overflow": null,
            "_model_module_version": "1.2.0",
            "_view_count": null,
            "flex_flow": null,
            "width": null,
            "min_width": null,
            "border": null,
            "align_items": null,
            "bottom": null,
            "_model_module": "@jupyter-widgets/base",
            "top": null,
            "grid_column": null,
            "overflow_y": null,
            "overflow_x": null,
            "grid_auto_flow": null,
            "grid_area": null,
            "grid_template_columns": null,
            "flex": null,
            "_model_name": "LayoutModel",
            "justify_items": null,
            "grid_row": null,
            "max_height": null,
            "align_content": null,
            "visibility": null,
            "align_self": null,
            "height": null,
            "min_height": null,
            "padding": null,
            "grid_auto_rows": null,
            "grid_gap": null,
            "max_width": null,
            "order": null,
            "_view_module_version": "1.2.0",
            "grid_template_areas": null,
            "object_position": null,
            "object_fit": null,
            "grid_auto_columns": null,
            "margin": null,
            "display": null,
            "left": null
          }
        },
        "736b95325dfd44ee9d47ca0f2642b0b0": {
          "model_module": "@jupyter-widgets/controls",
          "model_name": "HBoxModel",
          "model_module_version": "1.5.0",
          "state": {
            "_view_name": "HBoxView",
            "_dom_classes": [],
            "_model_name": "HBoxModel",
            "_view_module": "@jupyter-widgets/controls",
            "_model_module_version": "1.5.0",
            "_view_count": null,
            "_view_module_version": "1.5.0",
            "box_style": "",
            "layout": "IPY_MODEL_cf11194fa0d442ddbe73c4858c79fe27",
            "_model_module": "@jupyter-widgets/controls",
            "children": [
              "IPY_MODEL_20efbd40e0a04ac6badba7f27e80ed16",
              "IPY_MODEL_e628002c6e4f457ea398b6ebf177c260",
              "IPY_MODEL_7636efda2976457e8d23f74aa9c52e22"
            ]
          }
        },
        "cf11194fa0d442ddbe73c4858c79fe27": {
          "model_module": "@jupyter-widgets/base",
          "model_name": "LayoutModel",
          "model_module_version": "1.2.0",
          "state": {
            "_view_name": "LayoutView",
            "grid_template_rows": null,
            "right": null,
            "justify_content": null,
            "_view_module": "@jupyter-widgets/base",
            "overflow": null,
            "_model_module_version": "1.2.0",
            "_view_count": null,
            "flex_flow": null,
            "width": null,
            "min_width": null,
            "border": null,
            "align_items": null,
            "bottom": null,
            "_model_module": "@jupyter-widgets/base",
            "top": null,
            "grid_column": null,
            "overflow_y": null,
            "overflow_x": null,
            "grid_auto_flow": null,
            "grid_area": null,
            "grid_template_columns": null,
            "flex": null,
            "_model_name": "LayoutModel",
            "justify_items": null,
            "grid_row": null,
            "max_height": null,
            "align_content": null,
            "visibility": null,
            "align_self": null,
            "height": null,
            "min_height": null,
            "padding": null,
            "grid_auto_rows": null,
            "grid_gap": null,
            "max_width": null,
            "order": null,
            "_view_module_version": "1.2.0",
            "grid_template_areas": null,
            "object_position": null,
            "object_fit": null,
            "grid_auto_columns": null,
            "margin": null,
            "display": null,
            "left": null
          }
        },
        "20efbd40e0a04ac6badba7f27e80ed16": {
          "model_module": "@jupyter-widgets/controls",
          "model_name": "HTMLModel",
          "model_module_version": "1.5.0",
          "state": {
            "_view_name": "HTMLView",
            "style": "IPY_MODEL_403a575787e24c08b4756b0b4d4a207f",
            "_dom_classes": [],
            "description": "",
            "_model_name": "HTMLModel",
            "placeholder": "​",
            "_view_module": "@jupyter-widgets/controls",
            "_model_module_version": "1.5.0",
            "value": "100%",
            "_view_count": null,
            "_view_module_version": "1.5.0",
            "description_tooltip": null,
            "_model_module": "@jupyter-widgets/controls",
            "layout": "IPY_MODEL_eb674ab0ddf64e039d98b700dead7531"
          }
        },
        "e628002c6e4f457ea398b6ebf177c260": {
          "model_module": "@jupyter-widgets/controls",
          "model_name": "FloatProgressModel",
          "model_module_version": "1.5.0",
          "state": {
            "_view_name": "ProgressView",
            "style": "IPY_MODEL_088d792cb93f49bd80cf40ada36eeb69",
            "_dom_classes": [],
            "description": "",
            "_model_name": "FloatProgressModel",
            "bar_style": "success",
            "max": 9,
            "_view_module": "@jupyter-widgets/controls",
            "_model_module_version": "1.5.0",
            "value": 9,
            "_view_count": null,
            "_view_module_version": "1.5.0",
            "orientation": "horizontal",
            "min": 0,
            "description_tooltip": null,
            "_model_module": "@jupyter-widgets/controls",
            "layout": "IPY_MODEL_25b808314e804cb080b60964fa5a2be8"
          }
        },
        "7636efda2976457e8d23f74aa9c52e22": {
          "model_module": "@jupyter-widgets/controls",
          "model_name": "HTMLModel",
          "model_module_version": "1.5.0",
          "state": {
            "_view_name": "HTMLView",
            "style": "IPY_MODEL_2ff8c398e888440699883d14e8b975df",
            "_dom_classes": [],
            "description": "",
            "_model_name": "HTMLModel",
            "placeholder": "​",
            "_view_module": "@jupyter-widgets/controls",
            "_model_module_version": "1.5.0",
            "value": " 9/9 [00:20&lt;00:00,  2.97s/it]",
            "_view_count": null,
            "_view_module_version": "1.5.0",
            "description_tooltip": null,
            "_model_module": "@jupyter-widgets/controls",
            "layout": "IPY_MODEL_460efd10143a4d0f89d401a8bde7f335"
          }
        },
        "403a575787e24c08b4756b0b4d4a207f": {
          "model_module": "@jupyter-widgets/controls",
          "model_name": "DescriptionStyleModel",
          "model_module_version": "1.5.0",
          "state": {
            "_view_name": "StyleView",
            "_model_name": "DescriptionStyleModel",
            "description_width": "",
            "_view_module": "@jupyter-widgets/base",
            "_model_module_version": "1.5.0",
            "_view_count": null,
            "_view_module_version": "1.2.0",
            "_model_module": "@jupyter-widgets/controls"
          }
        },
        "eb674ab0ddf64e039d98b700dead7531": {
          "model_module": "@jupyter-widgets/base",
          "model_name": "LayoutModel",
          "model_module_version": "1.2.0",
          "state": {
            "_view_name": "LayoutView",
            "grid_template_rows": null,
            "right": null,
            "justify_content": null,
            "_view_module": "@jupyter-widgets/base",
            "overflow": null,
            "_model_module_version": "1.2.0",
            "_view_count": null,
            "flex_flow": null,
            "width": null,
            "min_width": null,
            "border": null,
            "align_items": null,
            "bottom": null,
            "_model_module": "@jupyter-widgets/base",
            "top": null,
            "grid_column": null,
            "overflow_y": null,
            "overflow_x": null,
            "grid_auto_flow": null,
            "grid_area": null,
            "grid_template_columns": null,
            "flex": null,
            "_model_name": "LayoutModel",
            "justify_items": null,
            "grid_row": null,
            "max_height": null,
            "align_content": null,
            "visibility": null,
            "align_self": null,
            "height": null,
            "min_height": null,
            "padding": null,
            "grid_auto_rows": null,
            "grid_gap": null,
            "max_width": null,
            "order": null,
            "_view_module_version": "1.2.0",
            "grid_template_areas": null,
            "object_position": null,
            "object_fit": null,
            "grid_auto_columns": null,
            "margin": null,
            "display": null,
            "left": null
          }
        },
        "088d792cb93f49bd80cf40ada36eeb69": {
          "model_module": "@jupyter-widgets/controls",
          "model_name": "ProgressStyleModel",
          "model_module_version": "1.5.0",
          "state": {
            "_view_name": "StyleView",
            "_model_name": "ProgressStyleModel",
            "description_width": "",
            "_view_module": "@jupyter-widgets/base",
            "_model_module_version": "1.5.0",
            "_view_count": null,
            "_view_module_version": "1.2.0",
            "bar_color": null,
            "_model_module": "@jupyter-widgets/controls"
          }
        },
        "25b808314e804cb080b60964fa5a2be8": {
          "model_module": "@jupyter-widgets/base",
          "model_name": "LayoutModel",
          "model_module_version": "1.2.0",
          "state": {
            "_view_name": "LayoutView",
            "grid_template_rows": null,
            "right": null,
            "justify_content": null,
            "_view_module": "@jupyter-widgets/base",
            "overflow": null,
            "_model_module_version": "1.2.0",
            "_view_count": null,
            "flex_flow": null,
            "width": null,
            "min_width": null,
            "border": null,
            "align_items": null,
            "bottom": null,
            "_model_module": "@jupyter-widgets/base",
            "top": null,
            "grid_column": null,
            "overflow_y": null,
            "overflow_x": null,
            "grid_auto_flow": null,
            "grid_area": null,
            "grid_template_columns": null,
            "flex": null,
            "_model_name": "LayoutModel",
            "justify_items": null,
            "grid_row": null,
            "max_height": null,
            "align_content": null,
            "visibility": null,
            "align_self": null,
            "height": null,
            "min_height": null,
            "padding": null,
            "grid_auto_rows": null,
            "grid_gap": null,
            "max_width": null,
            "order": null,
            "_view_module_version": "1.2.0",
            "grid_template_areas": null,
            "object_position": null,
            "object_fit": null,
            "grid_auto_columns": null,
            "margin": null,
            "display": null,
            "left": null
          }
        },
        "2ff8c398e888440699883d14e8b975df": {
          "model_module": "@jupyter-widgets/controls",
          "model_name": "DescriptionStyleModel",
          "model_module_version": "1.5.0",
          "state": {
            "_view_name": "StyleView",
            "_model_name": "DescriptionStyleModel",
            "description_width": "",
            "_view_module": "@jupyter-widgets/base",
            "_model_module_version": "1.5.0",
            "_view_count": null,
            "_view_module_version": "1.2.0",
            "_model_module": "@jupyter-widgets/controls"
          }
        },
        "460efd10143a4d0f89d401a8bde7f335": {
          "model_module": "@jupyter-widgets/base",
          "model_name": "LayoutModel",
          "model_module_version": "1.2.0",
          "state": {
            "_view_name": "LayoutView",
            "grid_template_rows": null,
            "right": null,
            "justify_content": null,
            "_view_module": "@jupyter-widgets/base",
            "overflow": null,
            "_model_module_version": "1.2.0",
            "_view_count": null,
            "flex_flow": null,
            "width": null,
            "min_width": null,
            "border": null,
            "align_items": null,
            "bottom": null,
            "_model_module": "@jupyter-widgets/base",
            "top": null,
            "grid_column": null,
            "overflow_y": null,
            "overflow_x": null,
            "grid_auto_flow": null,
            "grid_area": null,
            "grid_template_columns": null,
            "flex": null,
            "_model_name": "LayoutModel",
            "justify_items": null,
            "grid_row": null,
            "max_height": null,
            "align_content": null,
            "visibility": null,
            "align_self": null,
            "height": null,
            "min_height": null,
            "padding": null,
            "grid_auto_rows": null,
            "grid_gap": null,
            "max_width": null,
            "order": null,
            "_view_module_version": "1.2.0",
            "grid_template_areas": null,
            "object_position": null,
            "object_fit": null,
            "grid_auto_columns": null,
            "margin": null,
            "display": null,
            "left": null
          }
        }
      }
    }
  },
  "cells": [
    {
      "cell_type": "markdown",
      "source": [
        "**Samin Mehdizadeh** / **Mohsen Fayyaz**"
      ],
      "metadata": {
        "id": "oK56QYQreq-P"
      }
    },
    {
      "cell_type": "code",
      "execution_count": null,
      "metadata": {
        "id": "HlUjDCakvb6A"
      },
      "outputs": [],
      "source": [
        "# ! wget https://physionet.org/static/published-projects/mitdb/mit-bih-arrhythmia-database-1.0.0.zip\n",
        "# ! unzip /content/mit-bih-arrhythmia-database-1.0.0.zip"
      ]
    },
    {
      "cell_type": "code",
      "source": [
        "! pip install wfdb\n",
        "! pip install spectrum\n",
        "! python -m pip uninstall matplotlib\n",
        "! pip install matplotlib==3.1.3"
      ],
      "metadata": {
        "id": "pfIgQMyIvf-p"
      },
      "execution_count": null,
      "outputs": []
    },
    {
      "cell_type": "code",
      "source": [
        "import wfdb\n",
        "import spectrum\n",
        "import matplotlib.pyplot as plt\n",
        "import numpy as np\n",
        "from pylab import plot, log10, linspace, axis\n",
        "from tqdm.auto import tqdm\n",
        "from sklearn.utils import shuffle\n",
        "from sklearn.neighbors import KNeighborsClassifier\n",
        "from sklearn.model_selection import train_test_split\n",
        "from sklearn.svm import SVC\n",
        "from sklearn.metrics import classification_report, confusion_matrix, ConfusionMatrixDisplay\n",
        "from sklearn.neural_network import MLPClassifier\n",
        "from sklearn.ensemble import RandomForestClassifier\n",
        "from sklearn.metrics import RocCurveDisplay\n",
        "from sklearn import metrics\n",
        "from sklearn.preprocessing import StandardScaler"
      ],
      "metadata": {
        "id": "b33kwzvz82lq"
      },
      "execution_count": null,
      "outputs": []
    },
    {
      "cell_type": "markdown",
      "source": [
        "## Download database & Test for an example"
      ],
      "metadata": {
        "id": "5zpNLChagBpZ"
      }
    },
    {
      "cell_type": "code",
      "source": [
        "import os\n",
        "wfdb.dl_database('mitdb', os.path.join(os.getcwd(), 'mitdb'))\n",
        "wfdb.dl_database('chfdb', os.path.join(os.getcwd(), 'chfdb'))"
      ],
      "metadata": {
        "id": "7JbvHH2287tb",
        "colab": {
          "base_uri": "https://localhost:8080/"
        },
        "outputId": "9141baf2-2cf6-486c-fee4-a2077940372f"
      },
      "execution_count": null,
      "outputs": [
        {
          "output_type": "stream",
          "name": "stdout",
          "text": [
            "Finished downloading files\n"
          ]
        }
      ]
    },
    {
      "cell_type": "code",
      "source": [
        "example = \"mitdb/100\"\n",
        "# example = \"chfdb/chf01\"\n",
        "# load a record using the 'rdrecord' function\n",
        "ann_extension = \"ecg\" if \"chfdb\" in example else \"atr\"\n",
        "record = wfdb.rdrecord(example, sampfrom=0, sampto=1000)\n",
        "ann = wfdb.rdann(example, ann_extension, sampto=1000)\n",
        "\n",
        "\n",
        "print(record.__dict__)\n",
        "print(ann.__dict__)\n",
        "\n",
        "# plot the record to screen\n",
        "wfdb.plot_wfdb(record=record, title='Example signals', annotation=ann)"
      ],
      "metadata": {
        "colab": {
          "base_uri": "https://localhost:8080/",
          "height": 462
        },
        "id": "8rfO-X_Y9AVa",
        "outputId": "21e27574-940b-4a4d-805c-32cd46472696"
      },
      "execution_count": null,
      "outputs": [
        {
          "output_type": "stream",
          "name": "stdout",
          "text": [
            "{'record_name': '100', 'n_sig': 2, 'fs': 360, 'counter_freq': None, 'base_counter': None, 'sig_len': 1000, 'base_time': None, 'base_date': None, 'comments': ['69 M 1085 1629 x1', 'Aldomet, Inderal'], 'sig_name': ['MLII', 'V5'], 'p_signal': array([[-0.145, -0.065],\n",
            "       [-0.145, -0.065],\n",
            "       [-0.145, -0.065],\n",
            "       ...,\n",
            "       [-0.385, -0.26 ],\n",
            "       [-0.375, -0.26 ],\n",
            "       [-0.385, -0.275]]), 'd_signal': None, 'e_p_signal': None, 'e_d_signal': None, 'file_name': ['100.dat', '100.dat'], 'fmt': ['212', '212'], 'samps_per_frame': [1, 1], 'skew': [None, None], 'byte_offset': [None, None], 'adc_gain': [200.0, 200.0], 'baseline': [1024, 1024], 'units': ['mV', 'mV'], 'adc_res': [11, 11], 'adc_zero': [1024, 1024], 'init_value': [995, 1011], 'checksum': [44119, 64923], 'block_size': [0, 0]}\n",
            "{'record_name': '100', 'extension': 'atr', 'sample': array([ 18,  77, 370, 662, 946]), 'symbol': ['+', 'N', 'N', 'N', 'N'], 'subtype': array([0, 0, 0, 0, 0]), 'chan': array([0, 0, 0, 0, 0]), 'num': array([0, 0, 0, 0, 0]), 'aux_note': ['(N\\x00', '', '', '', ''], 'fs': 360, 'label_store': None, 'description': None, 'custom_labels': None, 'contained_labels': None, 'ann_len': 5}\n"
          ]
        },
        {
          "output_type": "display_data",
          "data": {
            "image/png": "[encoded data removed]",
            "text/plain": [
              "<Figure size 432x288 with 2 Axes>"
            ]
          },
          "metadata": {
            "needs_background": "light"
          }
        }
      ]
    },
    {
      "cell_type": "code",
      "source": [
        "plt.plot(record.p_signal[:, 0])"
      ],
      "metadata": {
        "colab": {
          "base_uri": "https://localhost:8080/",
          "height": 283
        },
        "id": "iG_Aqwd1fuLD",
        "outputId": "bdc41ddf-1b5a-4c06-f003-db6f217f0593"
      },
      "execution_count": null,
      "outputs": [
        {
          "output_type": "execute_result",
          "data": {
            "text/plain": [
              "[<matplotlib.lines.Line2D at 0x7fd9ebab7490>]"
            ]
          },
          "metadata": {},
          "execution_count": 77
        },
        {
          "output_type": "display_data",
          "data": {
            "image/png": "[encoded data removed]",
            "text/plain": [
              "<Figure size 432x288 with 1 Axes>"
            ]
          },
          "metadata": {
            "needs_background": "light"
          }
        }
      ]
    },
    {
      "cell_type": "code",
      "source": [
        "p = spectrum.pburg(record.p_signal[:, 0], 7);  p.plot()"
      ],
      "metadata": {
        "colab": {
          "base_uri": "https://localhost:8080/",
          "height": 279
        },
        "id": "16w4eM2O_89k",
        "outputId": "b75c2e47-974e-435b-dd4c-05570fddd698"
      },
      "execution_count": null,
      "outputs": [
        {
          "output_type": "display_data",
          "data": {
            "image/png": "[encoded data removed]",
            "text/plain": [
              "<Figure size 432x288 with 1 Axes>"
            ]
          },
          "metadata": {
            "needs_background": "light"
          }
        }
      ]
    },
    {
      "cell_type": "code",
      "source": [
        "AR, P, k = spectrum.arburg(record.p_signal[:, 0], 32)\n",
        "PSD = spectrum.arma2psd(AR)\n",
        "plot(linspace(-0.5, 0.5, len(PSD)), 10*log10(PSD/max(PSD)))\n",
        "\n",
        "axis([-0.5,0.5,-60,0])\n",
        "print(PSD.shape)"
      ],
      "metadata": {
        "colab": {
          "base_uri": "https://localhost:8080/",
          "height": 287
        },
        "id": "PdU1aCjQfLfg",
        "outputId": "6e7b5cd9-f120-4497-e323-f3bb3d1da502"
      },
      "execution_count": null,
      "outputs": [
        {
          "output_type": "stream",
          "name": "stdout",
          "text": [
            "(4096,)\n"
          ]
        },
        {
          "output_type": "display_data",
          "data": {
            "image/png": "[encoded data removed]",
            "text/plain": [
              "<Figure size 432x288 with 1 Axes>"
            ]
          },
          "metadata": {
            "needs_background": "light"
          }
        }
      ]
    },
    {
      "cell_type": "code",
      "source": [
        "plt.plot(10*log10(PSD[:2048]/max(PSD)))"
      ],
      "metadata": {
        "colab": {
          "base_uri": "https://localhost:8080/",
          "height": 283
        },
        "id": "F0LlsPz0iN44",
        "outputId": "e5415a04-a405-465f-b78e-0438b2f5ccf9"
      },
      "execution_count": null,
      "outputs": [
        {
          "output_type": "execute_result",
          "data": {
            "text/plain": [
              "[<matplotlib.lines.Line2D at 0x7fd9f5519810>]"
            ]
          },
          "metadata": {},
          "execution_count": 12
        },
        {
          "output_type": "display_data",
          "data": {
            "image/png": "[encoded data removed]",
            "text/plain": [
              "<Figure size 432x288 with 1 Axes>"
            ]
          },
          "metadata": {
            "needs_background": "light"
          }
        }
      ]
    },
    {
      "cell_type": "markdown",
      "source": [
        "# Extract Features"
      ],
      "metadata": {
        "id": "WBoiljmdmHwQ"
      }
    },
    {
      "cell_type": "code",
      "source": [
        "features = []\n",
        "targets = []\n",
        "step = 500\n",
        "for i in tqdm(range(100, 210)):\n",
        "    try:\n",
        "        for sampfrom in range(0, 20000, step):\n",
        "            record = wfdb.rdrecord(f'mitdb/{i}', sampfrom=sampfrom, sampto=sampfrom+step)\n",
        "            AR, P, k = spectrum.arburg(record.p_signal[:, 0], 32)\n",
        "            PSD = spectrum.arma2psd(AR)\n",
        "            features.append(10*log10(PSD[:2048]/max(PSD)))\n",
        "            targets.append(\"Normal\")\n",
        "    except Exception as e:\n",
        "        print(f\"Failed {i}\", end=\",\")\n",
        "\n",
        "for i in tqdm(range(1, 16)):\n",
        "    try:\n",
        "        for sampfrom in range(0, 30000, step):\n",
        "            record = wfdb.rdrecord(f'chfdb/chf{i:02d}', sampfrom=sampfrom, sampto=sampfrom+step)\n",
        "            AR, P, k = spectrum.arburg(record.p_signal[:, 0], 32)\n",
        "            PSD = spectrum.arma2psd(AR)\n",
        "            features.append(10*log10(PSD[:2048]/max(PSD)))\n",
        "            targets.append(\"CHF\")\n",
        "    except Exception as e:\n",
        "        print(f\"Failed {i}\", end=\",\")\n",
        "        print(e)\n",
        "\n",
        "features = np.array(features)\n",
        "targets = np.array(targets)"
      ],
      "metadata": {
        "colab": {
          "base_uri": "https://localhost:8080/",
          "height": 119,
          "referenced_widgets": [
            "9ac57e72e91b4e55a5f689666123905a",
            "861fe3ee4bf74d16a76e693edaadc9ac",
            "f13847f0be79482a930d19ab96ee1e87",
            "e5dba12fdc2e4ab6a6f7d87138d4edc6",
            "4ada1fc2917749f9a22970882fbf3b9d",
            "d400a597f8884a33bd91ca8b819e60d8",
            "99138073b9fa4caa8892586191a06199",
            "0e634115411d4787bc91aa01a3f076f9",
            "ac82c7a9f00945ba8608afc646990789",
            "48d7eb708d1e408a907006efdf07b68f",
            "90ff28661d424ff0a916059b4b2728cc",
            "2a0b62394d734e85a210daceae28bdab",
            "1e2d4cc6e15946ae8b1e157e578530ab",
            "8f87fa53ffcb4bdea3ac4ad8f44c2afa",
            "8e7d594ee5654755981f18b76efd85bb",
            "20ffd0205c974bab87d52c55fac2bcb5",
            "4e804eaaae1c4ee8b6dbf2897569a2ec",
            "9243abc86c644a48a003ce497952d701",
            "e0405ecc4372429da54dc27bfd87bedf",
            "bc71a898c9e5407ba76f570b6aed8f2e",
            "c5079d1503f1449faabc2a385dfa272f",
            "29d89139db9845d3943f0bd23293b424"
          ]
        },
        "id": "FwM_UgZMlbD5",
        "outputId": "62813cc8-11d2-4ed1-d25b-953bc47d1f80"
      },
      "execution_count": null,
      "outputs": [
        {
          "output_type": "display_data",
          "data": {
            "application/vnd.jupyter.widget-view+json": {
              "model_id": "9ac57e72e91b4e55a5f689666123905a",
              "version_minor": 0,
              "version_major": 2
            },
            "text/plain": [
              "  0%|          | 0/110 [00:00<?, ?it/s]"
            ]
          },
          "metadata": {}
        },
        {
          "output_type": "stream",
          "name": "stdout",
          "text": [
            "Failed 110,Failed 120,Failed 125,Failed 126,Failed 127,Failed 128,Failed 129,Failed 130,Failed 131,Failed 132,Failed 133,Failed 134,Failed 135,Failed 136,Failed 137,Failed 138,Failed 139,Failed 140,Failed 141,Failed 142,Failed 143,Failed 144,Failed 145,Failed 146,Failed 147,Failed 148,Failed 149,Failed 150,Failed 151,Failed 152,Failed 153,Failed 154,Failed 155,Failed 156,Failed 157,Failed 158,Failed 159,Failed 160,Failed 161,Failed 162,Failed 163,Failed 164,Failed 165,Failed 166,Failed 167,Failed 168,Failed 169,Failed 170,Failed 171,Failed 172,Failed 173,Failed 174,Failed 175,Failed 176,Failed 177,Failed 178,Failed 179,Failed 180,Failed 181,Failed 182,Failed 183,Failed 184,Failed 185,Failed 186,Failed 187,Failed 188,Failed 189,Failed 190,Failed 191,Failed 192,Failed 193,Failed 194,Failed 195,Failed 196,Failed 197,Failed 198,Failed 199,Failed 204,Failed 206,"
          ]
        },
        {
          "output_type": "display_data",
          "data": {
            "application/vnd.jupyter.widget-view+json": {
              "model_id": "2a0b62394d734e85a210daceae28bdab",
              "version_minor": 0,
              "version_major": 2
            },
            "text/plain": [
              "  0%|          | 0/15 [00:00<?, ?it/s]"
            ]
          },
          "metadata": {}
        }
      ]
    },
    {
      "cell_type": "code",
      "source": [
        "print(features.shape)\n",
        "print(targets.shape)"
      ],
      "metadata": {
        "colab": {
          "base_uri": "https://localhost:8080/"
        },
        "id": "BIpNIyH5moEi",
        "outputId": "98fc41f0-3396-4ce9-a994-232bce82a739"
      },
      "execution_count": null,
      "outputs": [
        {
          "output_type": "stream",
          "name": "stdout",
          "text": [
            "(2140, 2048)\n",
            "(2140,)\n"
          ]
        }
      ]
    },
    {
      "cell_type": "markdown",
      "source": [
        "# Classification"
      ],
      "metadata": {
        "id": "gkMtVY4vx2c0"
      }
    },
    {
      "cell_type": "code",
      "source": [
        "X, y = shuffle(features,targets)\n",
        "y"
      ],
      "metadata": {
        "id": "WuYnU2itpCtK",
        "colab": {
          "base_uri": "https://localhost:8080/"
        },
        "outputId": "daed9de7-af07-403f-ce84-2a4827df4fcc"
      },
      "execution_count": null,
      "outputs": [
        {
          "output_type": "execute_result",
          "data": {
            "text/plain": [
              "array(['Normal', 'CHF', 'Normal', ..., 'Normal', 'Normal', 'Normal'],\n",
              "      dtype='<U6')"
            ]
          },
          "metadata": {},
          "execution_count": 69
        }
      ]
    },
    {
      "cell_type": "code",
      "source": [
        "#CHF=0 and Normal= 1\n",
        "y = np.unique(y, return_inverse=True)[1]\n",
        "y"
      ],
      "metadata": {
        "colab": {
          "base_uri": "https://localhost:8080/"
        },
        "id": "0OkCJbnI2EXI",
        "outputId": "6e99d87f-6ad6-4bb9-fa10-cd9911e4c3fb"
      },
      "execution_count": null,
      "outputs": [
        {
          "output_type": "execute_result",
          "data": {
            "text/plain": [
              "array([1, 0, 1, ..., 1, 1, 1])"
            ]
          },
          "metadata": {},
          "execution_count": 70
        }
      ]
    },
    {
      "cell_type": "code",
      "source": [
        "import numpy as np\n",
        "from scipy.spatial.distance import pdist, cdist\n",
        "from scipy.spatial.distance import squareform\n",
        "\n",
        "\n",
        "def PUK_kernel(X1,X2, sigma=1.0, omega=1.0):\n",
        "    # Compute the kernel matrix between two arrays using the Pearson VII function-based universal kernel.\n",
        "\n",
        "    # Compute squared euclidean distance between each row element pair of the two matrices\n",
        "    if X1 is X2 :\n",
        "        kernel = squareform(pdist(X1, 'sqeuclidean'))\n",
        "    else:\n",
        "        kernel = cdist(X1, X2, 'sqeuclidean')\n",
        "\n",
        "    kernel = (1 + (kernel * 4 * np.sqrt(2**(1.0/omega)-1)) / sigma**2) ** omega\n",
        "    kernel = 1/kernel\n",
        "\n",
        "    return kernel"
      ],
      "metadata": {
        "id": "wzSU4uRHACqL"
      },
      "execution_count": null,
      "outputs": []
    },
    {
      "cell_type": "code",
      "source": [
        "X_train, X_test, y_train, y_test = train_test_split(X, y, test_size=0.2, random_state=42)\n",
        "classifiers = [\n",
        "    KNeighborsClassifier(1),\n",
        "    KNeighborsClassifier(3),\n",
        "    KNeighborsClassifier(5),\n",
        "    KNeighborsClassifier(7),\n",
        "    KNeighborsClassifier(10),\n",
        "    MLPClassifier(max_iter=500, early_stopping=True, learning_rate_init=0.001, \n",
        "                  validation_fraction=0.3,\n",
        "                  verbose=True, hidden_layer_sizes=(100, 100)),\n",
        "    SVC(kernel=\"rbf\") ,\n",
        "    SVC(kernel=PUK_kernel),\n",
        "    RandomForestClassifier(n_estimators = 20,max_features=6)          \n",
        "]\n",
        "\n",
        "\n",
        "def eval(X_test,y_true, y_pred, clf=\"\"):\n",
        "    cr = classification_report(y_true, y_pred, target_names=['CHF','Normal'])\n",
        "    print(cr)\n",
        "    cm = confusion_matrix(y_true, y_pred)\n",
        "    disp = ConfusionMatrixDisplay(confusion_matrix=cm, display_labels=['CHF','Normal'])\n",
        "    disp.plot()\n",
        "    svc_disp = RocCurveDisplay.from_estimator(clf, X_test, y_test)\n",
        "    plt.show()\n",
        "\n",
        "for clf in tqdm(classifiers):\n",
        "    y_pred = clf.fit(X_train, y_train).predict(X_test)\n",
        "    print(\"\\n\", clf)\n",
        "    eval(X_test,y_test, y_pred, clf)"
      ],
      "metadata": {
        "colab": {
          "base_uri": "https://localhost:8080/",
          "height": 1000,
          "referenced_widgets": [
            "736b95325dfd44ee9d47ca0f2642b0b0",
            "cf11194fa0d442ddbe73c4858c79fe27",
            "20efbd40e0a04ac6badba7f27e80ed16",
            "e628002c6e4f457ea398b6ebf177c260",
            "7636efda2976457e8d23f74aa9c52e22",
            "403a575787e24c08b4756b0b4d4a207f",
            "eb674ab0ddf64e039d98b700dead7531",
            "088d792cb93f49bd80cf40ada36eeb69",
            "25b808314e804cb080b60964fa5a2be8",
            "2ff8c398e888440699883d14e8b975df",
            "460efd10143a4d0f89d401a8bde7f335"
          ]
        },
        "id": "qQycROz92e1Q",
        "outputId": "2f0e48ca-4867-439d-cdc5-b36422e6bd52"
      },
      "execution_count": null,
      "outputs": [
        {
          "output_type": "display_data",
          "data": {
            "application/vnd.jupyter.widget-view+json": {
              "model_id": "736b95325dfd44ee9d47ca0f2642b0b0",
              "version_minor": 0,
              "version_major": 2
            },
            "text/plain": [
              "  0%|          | 0/9 [00:00<?, ?it/s]"
            ]
          },
          "metadata": {}
        },
        {
          "output_type": "stream",
          "name": "stdout",
          "text": [
            "\n",
            " KNeighborsClassifier(n_neighbors=1)\n",
            "              precision    recall  f1-score   support\n",
            "\n",
            "         CHF       0.98      0.96      0.97       190\n",
            "      Normal       0.97      0.99      0.98       238\n",
            "\n",
            "    accuracy                           0.98       428\n",
            "   macro avg       0.98      0.98      0.98       428\n",
            "weighted avg       0.98      0.98      0.98       428\n",
            "\n"
          ]
        },
        {
          "output_type": "display_data",
          "data": {
            "image/png": "[encoded data removed]",
            "text/plain": [
              "<Figure size 432x288 with 2 Axes>"
            ]
          },
          "metadata": {
            "needs_background": "light"
          }
        },
        {
          "output_type": "display_data",
          "data": {
            "image/png": "[encoded data removed]",
            "text/plain": [
              "<Figure size 432x288 with 1 Axes>"
            ]
          },
          "metadata": {
            "needs_background": "light"
          }
        },
        {
          "output_type": "stream",
          "name": "stdout",
          "text": [
            "\n",
            " KNeighborsClassifier(n_neighbors=3)\n",
            "              precision    recall  f1-score   support\n",
            "\n",
            "         CHF       0.97      0.96      0.97       190\n",
            "      Normal       0.97      0.98      0.97       238\n",
            "\n",
            "    accuracy                           0.97       428\n",
            "   macro avg       0.97      0.97      0.97       428\n",
            "weighted avg       0.97      0.97      0.97       428\n",
            "\n"
          ]
        },
        {
          "output_type": "display_data",
          "data": {
            "image/png": "[encoded data removed]",
            "text/plain": [
              "<Figure size 432x288 with 2 Axes>"
            ]
          },
          "metadata": {
            "needs_background": "light"
          }
        },
        {
          "output_type": "display_data",
          "data": {
            "image/png": "[encoded data removed]",
            "text/plain": [
              "<Figure size 432x288 with 1 Axes>"
            ]
          },
          "metadata": {
            "needs_background": "light"
          }
        },
        {
          "output_type": "stream",
          "name": "stdout",
          "text": [
            "\n",
            " KNeighborsClassifier()\n",
            "              precision    recall  f1-score   support\n",
            "\n",
            "         CHF       0.97      0.96      0.97       190\n",
            "      Normal       0.97      0.98      0.97       238\n",
            "\n",
            "    accuracy                           0.97       428\n",
            "   macro avg       0.97      0.97      0.97       428\n",
            "weighted avg       0.97      0.97      0.97       428\n",
            "\n"
          ]
        },
        {
          "output_type": "display_data",
          "data": {
            "image/png": "[encoded data removed]",
            "text/plain": [
              "<Figure size 432x288 with 2 Axes>"
            ]
          },
          "metadata": {
            "needs_background": "light"
          }
        },
        {
          "output_type": "display_data",
          "data": {
            "image/png": "[encoded data removed]",
            "text/plain": [
              "<Figure size 432x288 with 1 Axes>"
            ]
          },
          "metadata": {
            "needs_background": "light"
          }
        },
        {
          "output_type": "stream",
          "name": "stdout",
          "text": [
            "\n",
            " KNeighborsClassifier(n_neighbors=7)\n",
            "              precision    recall  f1-score   support\n",
            "\n",
            "         CHF       0.97      0.95      0.96       190\n",
            "      Normal       0.96      0.98      0.97       238\n",
            "\n",
            "    accuracy                           0.97       428\n",
            "   macro avg       0.97      0.97      0.97       428\n",
            "weighted avg       0.97      0.97      0.97       428\n",
            "\n"
          ]
        },
        {
          "output_type": "display_data",
          "data": {
            "image/png": "[encoded data removed]",
            "text/plain": [
              "<Figure size 432x288 with 2 Axes>"
            ]
          },
          "metadata": {
            "needs_background": "light"
          }
        },
        {
          "output_type": "display_data",
          "data": {
            "image/png": "[encoded data removed]",
            "text/plain": [
              "<Figure size 432x288 with 1 Axes>"
            ]
          },
          "metadata": {
            "needs_background": "light"
          }
        },
        {
          "output_type": "stream",
          "name": "stdout",
          "text": [
            "\n",
            " KNeighborsClassifier(n_neighbors=10)\n",
            "              precision    recall  f1-score   support\n",
            "\n",
            "         CHF       0.96      0.95      0.95       190\n",
            "      Normal       0.96      0.97      0.96       238\n",
            "\n",
            "    accuracy                           0.96       428\n",
            "   macro avg       0.96      0.96      0.96       428\n",
            "weighted avg       0.96      0.96      0.96       428\n",
            "\n"
          ]
        },
        {
          "output_type": "display_data",
          "data": {
            "image/png": "[encoded data removed]",
            "text/plain": [
              "<Figure size 432x288 with 2 Axes>"
            ]
          },
          "metadata": {
            "needs_background": "light"
          }
        },
        {
          "output_type": "display_data",
          "data": {
            "image/png": "[encoded data removed]",
            "text/plain": [
              "<Figure size 432x288 with 1 Axes>"
            ]
          },
          "metadata": {
            "needs_background": "light"
          }
        },
        {
          "output_type": "stream",
          "name": "stdout",
          "text": [
            "Iteration 1, loss = 18.10811074\n",
            "Validation score: 0.414397\n",
            "Iteration 2, loss = 9.71083096\n",
            "Validation score: 0.414397\n",
            "Iteration 3, loss = 10.40692125\n",
            "Validation score: 0.585603\n",
            "Iteration 4, loss = 5.75767155\n",
            "Validation score: 0.585603\n",
            "Iteration 5, loss = 3.29750574\n",
            "Validation score: 0.587549\n",
            "Iteration 6, loss = 2.56560750\n",
            "Validation score: 0.616732\n",
            "Iteration 7, loss = 2.39940373\n",
            "Validation score: 0.412451\n",
            "Iteration 8, loss = 2.08155418\n",
            "Validation score: 0.463035\n",
            "Iteration 9, loss = 1.63204509\n",
            "Validation score: 0.591440\n",
            "Iteration 10, loss = 1.75646766\n",
            "Validation score: 0.614786\n",
            "Iteration 11, loss = 1.50952530\n",
            "Validation score: 0.535019\n",
            "Iteration 12, loss = 1.11706091\n",
            "Validation score: 0.614786\n",
            "Iteration 13, loss = 0.82782401\n",
            "Validation score: 0.642023\n",
            "Iteration 14, loss = 0.67042293\n",
            "Validation score: 0.480545\n",
            "Iteration 15, loss = 0.87537125\n",
            "Validation score: 0.494163\n",
            "Iteration 16, loss = 0.72347364\n",
            "Validation score: 0.538911\n",
            "Iteration 17, loss = 0.79589369\n",
            "Validation score: 0.688716\n",
            "Iteration 18, loss = 0.83308399\n",
            "Validation score: 0.607004\n",
            "Iteration 19, loss = 0.70592546\n",
            "Validation score: 0.686770\n",
            "Iteration 20, loss = 0.65176955\n",
            "Validation score: 0.700389\n",
            "Iteration 21, loss = 0.69116462\n",
            "Validation score: 0.702335\n",
            "Iteration 22, loss = 0.92255904\n",
            "Validation score: 0.607004\n",
            "Iteration 23, loss = 1.38865011\n",
            "Validation score: 0.628405\n",
            "Iteration 24, loss = 2.26496318\n",
            "Validation score: 0.591440\n",
            "Iteration 25, loss = 1.96129193\n",
            "Validation score: 0.585603\n",
            "Iteration 26, loss = 2.35347852\n",
            "Validation score: 0.585603\n",
            "Iteration 27, loss = 1.35581484\n",
            "Validation score: 0.513619\n",
            "Iteration 28, loss = 1.09562777\n",
            "Validation score: 0.616732\n",
            "Iteration 29, loss = 0.92800571\n",
            "Validation score: 0.673152\n",
            "Iteration 30, loss = 0.69572466\n",
            "Validation score: 0.618677\n",
            "Iteration 31, loss = 0.68282838\n",
            "Validation score: 0.712062\n",
            "Iteration 32, loss = 0.53276282\n",
            "Validation score: 0.725681\n",
            "Iteration 33, loss = 0.50323449\n",
            "Validation score: 0.733463\n",
            "Iteration 34, loss = 0.57619022\n",
            "Validation score: 0.519455\n",
            "Iteration 35, loss = 0.89644417\n",
            "Validation score: 0.772374\n",
            "Iteration 36, loss = 0.71120502\n",
            "Validation score: 0.585603\n",
            "Iteration 37, loss = 0.99848875\n",
            "Validation score: 0.630350\n",
            "Iteration 38, loss = 0.57632525\n",
            "Validation score: 0.733463\n",
            "Iteration 39, loss = 0.49110308\n",
            "Validation score: 0.663424\n",
            "Iteration 40, loss = 0.54365836\n",
            "Validation score: 0.698444\n",
            "Iteration 41, loss = 0.53437495\n",
            "Validation score: 0.725681\n",
            "Iteration 42, loss = 0.49844507\n",
            "Validation score: 0.702335\n",
            "Iteration 43, loss = 0.51251286\n",
            "Validation score: 0.737354\n",
            "Iteration 44, loss = 0.51278606\n",
            "Validation score: 0.745136\n",
            "Iteration 45, loss = 0.59362332\n",
            "Validation score: 0.634241\n",
            "Iteration 46, loss = 0.74776465\n",
            "Validation score: 0.684825\n",
            "Validation score did not improve more than tol=0.000100 for 10 consecutive epochs. Stopping.\n",
            "\n",
            " MLPClassifier(early_stopping=True, hidden_layer_sizes=(100, 100), max_iter=500,\n",
            "              validation_fraction=0.3, verbose=True)\n",
            "              precision    recall  f1-score   support\n",
            "\n",
            "         CHF       0.70      0.81      0.75       190\n",
            "      Normal       0.82      0.73      0.77       238\n",
            "\n",
            "    accuracy                           0.76       428\n",
            "   macro avg       0.76      0.77      0.76       428\n",
            "weighted avg       0.77      0.76      0.76       428\n",
            "\n"
          ]
        },
        {
          "output_type": "display_data",
          "data": {
            "image/png": "[encoded data removed]",
            "text/plain": [
              "<Figure size 432x288 with 2 Axes>"
            ]
          },
          "metadata": {
            "needs_background": "light"
          }
        },
        {
          "output_type": "display_data",
          "data": {
            "image/png": "[encoded data removed]",
            "text/plain": [
              "<Figure size 432x288 with 1 Axes>"
            ]
          },
          "metadata": {
            "needs_background": "light"
          }
        },
        {
          "output_type": "stream",
          "name": "stdout",
          "text": [
            "\n",
            " SVC()\n",
            "              precision    recall  f1-score   support\n",
            "\n",
            "         CHF       0.99      0.98      0.98       190\n",
            "      Normal       0.98      0.99      0.99       238\n",
            "\n",
            "    accuracy                           0.99       428\n",
            "   macro avg       0.99      0.99      0.99       428\n",
            "weighted avg       0.99      0.99      0.99       428\n",
            "\n"
          ]
        },
        {
          "output_type": "display_data",
          "data": {
            "image/png": "[encoded data removed]",
            "text/plain": [
              "<Figure size 432x288 with 2 Axes>"
            ]
          },
          "metadata": {
            "needs_background": "light"
          }
        },
        {
          "output_type": "display_data",
          "data": {
            "image/png": "[encoded data removed]",
            "text/plain": [
              "<Figure size 432x288 with 1 Axes>"
            ]
          },
          "metadata": {
            "needs_background": "light"
          }
        },
        {
          "output_type": "stream",
          "name": "stdout",
          "text": [
            "\n",
            " SVC(kernel=<function PUK_kernel at 0x7fd9f5615dd0>)\n",
            "              precision    recall  f1-score   support\n",
            "\n",
            "         CHF       0.00      0.00      0.00       190\n",
            "      Normal       0.56      1.00      0.71       238\n",
            "\n",
            "    accuracy                           0.56       428\n",
            "   macro avg       0.28      0.50      0.36       428\n",
            "weighted avg       0.31      0.56      0.40       428\n",
            "\n"
          ]
        },
        {
          "output_type": "stream",
          "name": "stderr",
          "text": [
            "/usr/local/lib/python3.7/dist-packages/sklearn/metrics/_classification.py:1318: UndefinedMetricWarning: Precision and F-score are ill-defined and being set to 0.0 in labels with no predicted samples. Use `zero_division` parameter to control this behavior.\n",
            "  _warn_prf(average, modifier, msg_start, len(result))\n",
            "/usr/local/lib/python3.7/dist-packages/sklearn/metrics/_classification.py:1318: UndefinedMetricWarning: Precision and F-score are ill-defined and being set to 0.0 in labels with no predicted samples. Use `zero_division` parameter to control this behavior.\n",
            "  _warn_prf(average, modifier, msg_start, len(result))\n",
            "/usr/local/lib/python3.7/dist-packages/sklearn/metrics/_classification.py:1318: UndefinedMetricWarning: Precision and F-score are ill-defined and being set to 0.0 in labels with no predicted samples. Use `zero_division` parameter to control this behavior.\n",
            "  _warn_prf(average, modifier, msg_start, len(result))\n"
          ]
        },
        {
          "output_type": "display_data",
          "data": {
            "image/png": "[encoded data removed]",
            "text/plain": [
              "<Figure size 432x288 with 2 Axes>"
            ]
          },
          "metadata": {
            "needs_background": "light"
          }
        },
        {
          "output_type": "display_data",
          "data": {
            "image/png": "[encoded data removed]",
            "text/plain": [
              "<Figure size 432x288 with 1 Axes>"
            ]
          },
          "metadata": {
            "needs_background": "light"
          }
        },
        {
          "output_type": "stream",
          "name": "stdout",
          "text": [
            "\n",
            " RandomForestClassifier(max_features=6, n_estimators=20)\n",
            "              precision    recall  f1-score   support\n",
            "\n",
            "         CHF       0.96      0.96      0.96       190\n",
            "      Normal       0.97      0.97      0.97       238\n",
            "\n",
            "    accuracy                           0.96       428\n",
            "   macro avg       0.96      0.96      0.96       428\n",
            "weighted avg       0.96      0.96      0.96       428\n",
            "\n"
          ]
        },
        {
          "output_type": "display_data",
          "data": {
            "image/png": "[encoded data removed]",
            "text/plain": [
              "<Figure size 432x288 with 2 Axes>"
            ]
          },
          "metadata": {
            "needs_background": "light"
          }
        },
        {
          "output_type": "display_data",
          "data": {
            "image/png": "[encoded data removed]",
            "text/plain": [
              "<Figure size 432x288 with 1 Axes>"
            ]
          },
          "metadata": {
            "needs_background": "light"
          }
        }
      ]
    },
    {
      "cell_type": "code",
      "source": [
        ""
      ],
      "metadata": {
        "id": "WFRvAgEQbtql"
      },
      "execution_count": null,
      "outputs": []
    }
  ]
}